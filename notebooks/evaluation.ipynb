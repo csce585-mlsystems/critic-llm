{
 "cells": [
  {
   "cell_type": "code",
   "execution_count": 1,
   "metadata": {},
   "outputs": [
    {
     "name": "stdout",
     "output_type": "stream",
     "text": [
      "/home/nicholas/programs/critic-llm\n"
     ]
    }
   ],
   "source": [
    "%cd ~/programs/critic-llm/\n",
    "import os\n",
    "\n",
    "os.environ['CUDA_VISIBLE_DEVICES'] = '0'\n",
    "import numpy as np\n",
    "import jax.numpy as jnp\n",
    "import jax\n",
    "import pandas as pd\n",
    "import matplotlib.pyplot as plt\n",
    "import seaborn as sns\n",
    "import rho_plus as rp\n",
    "\n",
    "is_dark = True\n",
    "theme, cs = rp.mpl_setup(is_dark)"
   ]
  },
  {
   "cell_type": "code",
   "execution_count": 85,
   "metadata": {},
   "outputs": [
    {
     "name": "stderr",
     "output_type": "stream",
     "text": [
      "llama_new_context_with_model: n_ctx_per_seq (256) < n_ctx_train (131072) -- the full capacity of the model will not be utilized\n"
     ]
    }
   ],
   "source": [
    "from critic import load_llama_corrector\n",
    "from critic.simple_corrector import UniformCorrector\n",
    "corrector = load_llama_corrector(n_threads=4, new_kbd=False, kbd_weight=1)"
   ]
  },
  {
   "cell_type": "code",
   "execution_count": 7,
   "metadata": {},
   "outputs": [
    {
     "name": "stderr",
     "output_type": "stream",
     "text": [
      "llama_new_context_with_model: n_ctx_per_seq (256) < n_ctx_train (131072) -- the full capacity of the model will not be utilized\n"
     ]
    }
   ],
   "source": [
    "just_lm = load_llama_corrector()\n",
    "just_lm.base = UniformCorrector()"
   ]
  },
  {
   "cell_type": "code",
   "execution_count": 53,
   "metadata": {},
   "outputs": [
    {
     "name": "stdout",
     "output_type": "stream",
     "text": [
      "(35551, 12)\n"
     ]
    },
    {
     "data": {
      "text/html": [
       "<div>\n",
       "<style scoped>\n",
       "    .dataframe tbody tr th:only-of-type {\n",
       "        vertical-align: middle;\n",
       "    }\n",
       "\n",
       "    .dataframe tbody tr th {\n",
       "        vertical-align: top;\n",
       "    }\n",
       "\n",
       "    .dataframe thead th {\n",
       "        text-align: right;\n",
       "    }\n",
       "</style>\n",
       "<table border=\"1\" class=\"dataframe\">\n",
       "  <thead>\n",
       "    <tr style=\"text-align: right;\">\n",
       "      <th></th>\n",
       "      <th>kind</th>\n",
       "      <th>corrected</th>\n",
       "      <th>participant</th>\n",
       "      <th>weight</th>\n",
       "      <th>p</th>\n",
       "      <th>t</th>\n",
       "      <th>ist</th>\n",
       "      <th>i</th>\n",
       "      <th>j</th>\n",
       "      <th>context</th>\n",
       "      <th>wrong_char</th>\n",
       "      <th>right_char</th>\n",
       "    </tr>\n",
       "  </thead>\n",
       "  <tbody>\n",
       "    <tr>\n",
       "      <th>0</th>\n",
       "      <td>omission</td>\n",
       "      <td>False</td>\n",
       "      <td>469</td>\n",
       "      <td>1.0</td>\n",
       "      <td>Can you help get this cleared up?</td>\n",
       "      <td>Can you help get th¬s cleared up?</td>\n",
       "      <td>Can you help get th␣s cleared up?</td>\n",
       "      <td>19</td>\n",
       "      <td>NaN</td>\n",
       "      <td>Can you help get this</td>\n",
       "      <td>s</td>\n",
       "      <td>i</td>\n",
       "    </tr>\n",
       "    <tr>\n",
       "      <th>1</th>\n",
       "      <td>substitute</td>\n",
       "      <td>True</td>\n",
       "      <td>469</td>\n",
       "      <td>1.0</td>\n",
       "      <td>Can you help get this cleared up?</td>\n",
       "      <td>Can you help get th¬s cleared up?</td>\n",
       "      <td>Can you help get th␣s cleared up?</td>\n",
       "      <td>20</td>\n",
       "      <td>19.0</td>\n",
       "      <td>Can you help get this c</td>\n",
       "      <td>␣</td>\n",
       "      <td>s</td>\n",
       "    </tr>\n",
       "    <tr>\n",
       "      <th>2</th>\n",
       "      <td>omission</td>\n",
       "      <td>False</td>\n",
       "      <td>469</td>\n",
       "      <td>1.0</td>\n",
       "      <td>Doctors gave him 10 years ␣␣␣␣␣␣␣␣␣␣␣␣to live ...</td>\n",
       "      <td>Doctors gave him 10 years¬␣␣␣␣␣␣␣␣␣␣␣␣to live ...</td>\n",
       "      <td>Doctors gave him 10 years␣ t liv␈␈␈␈␈␈to live ...</td>\n",
       "      <td>25</td>\n",
       "      <td>NaN</td>\n",
       "      <td>Doctors gave him 10 years to</td>\n",
       "      <td>t</td>\n",
       "      <td></td>\n",
       "    </tr>\n",
       "    <tr>\n",
       "      <th>3</th>\n",
       "      <td>insertion</td>\n",
       "      <td>True</td>\n",
       "      <td>469</td>\n",
       "      <td>1.0</td>\n",
       "      <td>Doctors gave him 10 years ␣␣␣␣␣␣␣␣␣␣␣␣to live ...</td>\n",
       "      <td>Doctors gave him 10 years¬␣␣␣␣␣␣␣␣␣␣␣␣to live ...</td>\n",
       "      <td>Doctors gave him 10 years␣ t liv␈␈␈␈␈␈to live ...</td>\n",
       "      <td>25</td>\n",
       "      <td>NaN</td>\n",
       "      <td>Doctors gave him 10 years to</td>\n",
       "      <td>␣</td>\n",
       "      <td>t</td>\n",
       "    </tr>\n",
       "    <tr>\n",
       "      <th>4</th>\n",
       "      <td>insertion</td>\n",
       "      <td>True</td>\n",
       "      <td>469</td>\n",
       "      <td>1.0</td>\n",
       "      <td>Doctors gave him 10 years ␣␣␣␣␣␣␣␣␣␣␣␣to live ...</td>\n",
       "      <td>Doctors gave him 10 years¬␣␣␣␣␣␣␣␣␣␣␣␣to live ...</td>\n",
       "      <td>Doctors gave him 10 years␣ t liv␈␈␈␈␈␈to live ...</td>\n",
       "      <td>26</td>\n",
       "      <td>NaN</td>\n",
       "      <td>Doctors gave him 10 years to</td>\n",
       "      <td></td>\n",
       "      <td>t</td>\n",
       "    </tr>\n",
       "  </tbody>\n",
       "</table>\n",
       "</div>"
      ],
      "text/plain": [
       "         kind  corrected participant  weight  \\\n",
       "0    omission      False         469     1.0   \n",
       "1  substitute       True         469     1.0   \n",
       "2    omission      False         469     1.0   \n",
       "3   insertion       True         469     1.0   \n",
       "4   insertion       True         469     1.0   \n",
       "\n",
       "                                                   p  \\\n",
       "0                  Can you help get this cleared up?   \n",
       "1                  Can you help get this cleared up?   \n",
       "2  Doctors gave him 10 years ␣␣␣␣␣␣␣␣␣␣␣␣to live ...   \n",
       "3  Doctors gave him 10 years ␣␣␣␣␣␣␣␣␣␣␣␣to live ...   \n",
       "4  Doctors gave him 10 years ␣␣␣␣␣␣␣␣␣␣␣␣to live ...   \n",
       "\n",
       "                                                   t  \\\n",
       "0                  Can you help get th¬s cleared up?   \n",
       "1                  Can you help get th¬s cleared up?   \n",
       "2  Doctors gave him 10 years¬␣␣␣␣␣␣␣␣␣␣␣␣to live ...   \n",
       "3  Doctors gave him 10 years¬␣␣␣␣␣␣␣␣␣␣␣␣to live ...   \n",
       "4  Doctors gave him 10 years¬␣␣␣␣␣␣␣␣␣␣␣␣to live ...   \n",
       "\n",
       "                                                 ist   i     j  \\\n",
       "0                  Can you help get th␣s cleared up?  19   NaN   \n",
       "1                  Can you help get th␣s cleared up?  20  19.0   \n",
       "2  Doctors gave him 10 years␣ t liv␈␈␈␈␈␈to live ...  25   NaN   \n",
       "3  Doctors gave him 10 years␣ t liv␈␈␈␈␈␈to live ...  25   NaN   \n",
       "4  Doctors gave him 10 years␣ t liv␈␈␈␈␈␈to live ...  26   NaN   \n",
       "\n",
       "                        context wrong_char right_char  \n",
       "0        Can you help get this           s          i  \n",
       "1       Can you help get this c          ␣          s  \n",
       "2  Doctors gave him 10 years to          t             \n",
       "3  Doctors gave him 10 years to          ␣          t  \n",
       "4  Doctors gave him 10 years to                     t  "
      ]
     },
     "execution_count": 53,
     "metadata": {},
     "output_type": "execute_result"
    }
   ],
   "source": [
    "df = pd.read_feather('precomputed/all_typos.feather')\n",
    "print(df.shape)\n",
    "df.head()"
   ]
  },
  {
   "cell_type": "code",
   "execution_count": 73,
   "metadata": {},
   "outputs": [
    {
     "name": "stderr",
     "output_type": "stream",
     "text": [
      "/tmp/ipykernel_2406936/959341736.py:1: FutureWarning: The default of observed=False is deprecated and will be changed to True in a future version of pandas. Pass observed=False to retain current behavior or observed=True to adopt the future default and silence this warning.\n",
      "  last = df.groupby('p').last().reset_index()\n"
     ]
    },
    {
     "data": {
      "text/html": [
       "<div>\n",
       "<style scoped>\n",
       "    .dataframe tbody tr th:only-of-type {\n",
       "        vertical-align: middle;\n",
       "    }\n",
       "\n",
       "    .dataframe tbody tr th {\n",
       "        vertical-align: top;\n",
       "    }\n",
       "\n",
       "    .dataframe thead th {\n",
       "        text-align: right;\n",
       "    }\n",
       "</style>\n",
       "<table border=\"1\" class=\"dataframe\">\n",
       "  <thead>\n",
       "    <tr style=\"text-align: right;\">\n",
       "      <th></th>\n",
       "      <th>p_clean</th>\n",
       "      <th>t_clean</th>\n",
       "    </tr>\n",
       "  </thead>\n",
       "  <tbody>\n",
       "    <tr>\n",
       "      <th>3935</th>\n",
       "      <td>If the Penskes have any luck at all, they coul...</td>\n",
       "      <td>If the Penskes have any luck as all, they coul...</td>\n",
       "    </tr>\n",
       "    <tr>\n",
       "      <th>3939</th>\n",
       "      <td>If the Penskes have any luck at all, they coul...</td>\n",
       "      <td>If the Penskes have any luck at all, tey could...</td>\n",
       "    </tr>\n",
       "    <tr>\n",
       "      <th>3941</th>\n",
       "      <td>If we don't get it, could be trouble.</td>\n",
       "      <td>If we don't get it, could be trouble</td>\n",
       "    </tr>\n",
       "    <tr>\n",
       "      <th>3945</th>\n",
       "      <td>If we don't get it, could be trouble.</td>\n",
       "      <td>If we do't get it, could be trouble.</td>\n",
       "    </tr>\n",
       "    <tr>\n",
       "      <th>3947</th>\n",
       "      <td>If we don't get it, could be trouble.</td>\n",
       "      <td>If we dont get it, could be trouble.</td>\n",
       "    </tr>\n",
       "  </tbody>\n",
       "</table>\n",
       "</div>"
      ],
      "text/plain": [
       "                                                p_clean  \\\n",
       "3935  If the Penskes have any luck at all, they coul...   \n",
       "3939  If the Penskes have any luck at all, they coul...   \n",
       "3941              If we don't get it, could be trouble.   \n",
       "3945              If we don't get it, could be trouble.   \n",
       "3947              If we don't get it, could be trouble.   \n",
       "\n",
       "                                                t_clean  \n",
       "3935  If the Penskes have any luck as all, they coul...  \n",
       "3939  If the Penskes have any luck at all, tey could...  \n",
       "3941               If we don't get it, could be trouble  \n",
       "3945               If we do't get it, could be trouble.  \n",
       "3947               If we dont get it, could be trouble.  "
      ]
     },
     "execution_count": 73,
     "metadata": {},
     "output_type": "execute_result"
    }
   ],
   "source": [
    "last = df.groupby('p').last().reset_index()\n",
    "prompts = last['p']\n",
    "text = last['t']\n",
    "\n",
    "def clean(series):\n",
    "    return series.str.replace('␣', '').str.replace('¬', '')\n",
    "\n",
    "last['p_clean'] = clean(prompts)\n",
    "last['t_clean'] = clean(text)\n",
    "\n",
    "\n",
    "clean = last[last['p_clean'].str.lower() != last['t_clean'].str.lower()][['p_clean', 't_clean']]\n",
    "\n",
    "valid = clean[clean['p_clean'].str.count(' ') == clean['t_clean'].str.count(' ')]\n",
    "valid[valid['p_clean'].str.contains('could be')]"
   ]
  },
  {
   "cell_type": "code",
   "execution_count": 86,
   "metadata": {},
   "outputs": [
    {
     "name": "stderr",
     "output_type": "stream",
     "text": [
      "100%|██████████| 179/179 [05:57<00:00,  2.00s/it]"
     ]
    },
    {
     "name": "stdout",
     "output_type": "stream",
     "text": [
      "1229\n"
     ]
    },
    {
     "name": "stderr",
     "output_type": "stream",
     "text": [
      "\n"
     ]
    }
   ],
   "source": [
    "import pickle\n",
    "from dataclasses import dataclass\n",
    "from time import perf_counter\n",
    "from tqdm import tqdm\n",
    "from string import ascii_lowercase\n",
    "\n",
    "from critic.corrector import Corrections\n",
    "from critic.kbd_layout import QWERTY\n",
    "from critic.simple_corrector import SimpleCorrector, UniformCorrector\n",
    "\n",
    "@dataclass\n",
    "class CorrectionResult:\n",
    "    true: str\n",
    "    typed: str\n",
    "    corrs: Corrections\n",
    "    context: str\n",
    "    time: float\n",
    "\n",
    "\n",
    "def evaluate(corrector, path):\n",
    "    results = []\n",
    "    data = valid[::20]\n",
    "    for i, row in tqdm(data.iterrows(), total=data.shape[0]):\n",
    "        corrector.clear_context()\n",
    "        context = ''\n",
    "\n",
    "        p_words = row['p_clean'].split(' ')\n",
    "        t_words = row['t_clean'].split(' ')\n",
    "\n",
    "        for true, typed in zip(p_words, t_words):\n",
    "            if all(c.lower() in ascii_lowercase for c in true + typed):\n",
    "                start = perf_counter()\n",
    "                corrs = corrector.correct(typed)\n",
    "                end = perf_counter()\n",
    "                results.append(CorrectionResult(true, typed, corrs, context, end - start))\n",
    "\n",
    "            corrector.push_word(true)\n",
    "            context += true + ' '\n",
    "\n",
    "    print(len(results))\n",
    "\n",
    "    with open(f'results/{path}.pkl', 'wb') as f:\n",
    "        pickle.dump(results, f)\n",
    "\n",
    "    return results\n",
    "\n",
    "\n",
    "opt_results = evaluate(corrector, 'optimized_probs')\n",
    "# kbd_results = evaluate(corrector.base, 'kbd_probs')\n",
    "# lm_results = evaluate(just_lm, 'lm_probs')\n",
    "# corrector.base.model = old_mod\n",
    "# evaluate(corrector, 'old_probs')\n",
    "\n",
    "# simple = SimpleCorrector()\n",
    "# simple_results = evaluate(simple, 'simple_probs')"
   ]
  },
  {
   "cell_type": "code",
   "execution_count": 87,
   "metadata": {},
   "outputs": [
    {
     "data": {
      "text/plain": [
       "prob       0.876\n",
       "rank       1.105\n",
       "error      0.123\n",
       "correct    0.923\n",
       "time       0.291\n",
       "dtype: float64"
      ]
     },
     "metadata": {},
     "output_type": "display_data"
    },
    {
     "data": {
      "text/html": [
       "<div>\n",
       "<style scoped>\n",
       "    .dataframe tbody tr th:only-of-type {\n",
       "        vertical-align: middle;\n",
       "    }\n",
       "\n",
       "    .dataframe tbody tr th {\n",
       "        vertical-align: top;\n",
       "    }\n",
       "\n",
       "    .dataframe thead th {\n",
       "        text-align: right;\n",
       "    }\n",
       "</style>\n",
       "<table border=\"1\" class=\"dataframe\">\n",
       "  <thead>\n",
       "    <tr style=\"text-align: right;\">\n",
       "      <th></th>\n",
       "      <th>prob</th>\n",
       "      <th>rank</th>\n",
       "      <th>error</th>\n",
       "      <th>correct</th>\n",
       "      <th>time</th>\n",
       "    </tr>\n",
       "  </thead>\n",
       "  <tbody>\n",
       "    <tr>\n",
       "      <th>0</th>\n",
       "      <td>0.981879</td>\n",
       "      <td>1.0</td>\n",
       "      <td>False</td>\n",
       "      <td>True</td>\n",
       "      <td>0.506430</td>\n",
       "    </tr>\n",
       "    <tr>\n",
       "      <th>1</th>\n",
       "      <td>0.999154</td>\n",
       "      <td>1.0</td>\n",
       "      <td>False</td>\n",
       "      <td>True</td>\n",
       "      <td>0.484041</td>\n",
       "    </tr>\n",
       "    <tr>\n",
       "      <th>2</th>\n",
       "      <td>0.997758</td>\n",
       "      <td>1.0</td>\n",
       "      <td>False</td>\n",
       "      <td>True</td>\n",
       "      <td>0.298422</td>\n",
       "    </tr>\n",
       "    <tr>\n",
       "      <th>3</th>\n",
       "      <td>0.999930</td>\n",
       "      <td>1.0</td>\n",
       "      <td>False</td>\n",
       "      <td>True</td>\n",
       "      <td>0.090272</td>\n",
       "    </tr>\n",
       "    <tr>\n",
       "      <th>4</th>\n",
       "      <td>0.995520</td>\n",
       "      <td>1.0</td>\n",
       "      <td>False</td>\n",
       "      <td>True</td>\n",
       "      <td>0.338983</td>\n",
       "    </tr>\n",
       "    <tr>\n",
       "      <th>...</th>\n",
       "      <td>...</td>\n",
       "      <td>...</td>\n",
       "      <td>...</td>\n",
       "      <td>...</td>\n",
       "      <td>...</td>\n",
       "    </tr>\n",
       "    <tr>\n",
       "      <th>1224</th>\n",
       "      <td>0.999681</td>\n",
       "      <td>1.0</td>\n",
       "      <td>False</td>\n",
       "      <td>True</td>\n",
       "      <td>0.157044</td>\n",
       "    </tr>\n",
       "    <tr>\n",
       "      <th>1225</th>\n",
       "      <td>0.999283</td>\n",
       "      <td>1.0</td>\n",
       "      <td>False</td>\n",
       "      <td>True</td>\n",
       "      <td>0.163429</td>\n",
       "    </tr>\n",
       "    <tr>\n",
       "      <th>1226</th>\n",
       "      <td>0.926308</td>\n",
       "      <td>1.0</td>\n",
       "      <td>False</td>\n",
       "      <td>True</td>\n",
       "      <td>0.170882</td>\n",
       "    </tr>\n",
       "    <tr>\n",
       "      <th>1227</th>\n",
       "      <td>0.999673</td>\n",
       "      <td>1.0</td>\n",
       "      <td>False</td>\n",
       "      <td>True</td>\n",
       "      <td>0.409232</td>\n",
       "    </tr>\n",
       "    <tr>\n",
       "      <th>1228</th>\n",
       "      <td>0.999846</td>\n",
       "      <td>1.0</td>\n",
       "      <td>False</td>\n",
       "      <td>True</td>\n",
       "      <td>0.541346</td>\n",
       "    </tr>\n",
       "  </tbody>\n",
       "</table>\n",
       "<p>1229 rows × 5 columns</p>\n",
       "</div>"
      ],
      "text/plain": [
       "          prob  rank  error  correct      time\n",
       "0     0.981879   1.0  False     True  0.506430\n",
       "1     0.999154   1.0  False     True  0.484041\n",
       "2     0.997758   1.0  False     True  0.298422\n",
       "3     0.999930   1.0  False     True  0.090272\n",
       "4     0.995520   1.0  False     True  0.338983\n",
       "...        ...   ...    ...      ...       ...\n",
       "1224  0.999681   1.0  False     True  0.157044\n",
       "1225  0.999283   1.0  False     True  0.163429\n",
       "1226  0.926308   1.0  False     True  0.170882\n",
       "1227  0.999673   1.0  False     True  0.409232\n",
       "1228  0.999846   1.0  False     True  0.541346\n",
       "\n",
       "[1229 rows x 5 columns]"
      ]
     },
     "execution_count": 87,
     "metadata": {},
     "output_type": "execute_result"
    }
   ],
   "source": [
    "from typing import Sequence\n",
    "\n",
    "\n",
    "def grade(res: CorrectionResult):\n",
    "    corrs = res.corrs.as_series().sort_values(ascending=False)\n",
    "    if res.true in corrs.index:\n",
    "        data = {\n",
    "            'prob': corrs[res.true],\n",
    "            'rank': list(corrs.index).index(res.true) + 1\n",
    "        }\n",
    "    else:\n",
    "        data = {\n",
    "            'prob': 0,\n",
    "            'rank': np.nan\n",
    "        }\n",
    "\n",
    "    data['error'] = res.true != res.typed\n",
    "    data['correct'] = res.true == corrs.index[0]\n",
    "    data['time'] = res.time\n",
    "\n",
    "    return data\n",
    "\n",
    "def grade_all(results: Sequence[CorrectionResult]):\n",
    "    return pd.DataFrame([grade(res) for res in results])\n",
    "\n",
    "res_df = grade_all(opt_results)\n",
    "display(res_df.mean().round(3))\n",
    "res_df"
   ]
  },
  {
   "cell_type": "code",
   "execution_count": 88,
   "metadata": {},
   "outputs": [
    {
     "data": {
      "text/html": [
       "<div>\n",
       "<style scoped>\n",
       "    .dataframe tbody tr th:only-of-type {\n",
       "        vertical-align: middle;\n",
       "    }\n",
       "\n",
       "    .dataframe tbody tr th {\n",
       "        vertical-align: top;\n",
       "    }\n",
       "\n",
       "    .dataframe thead th {\n",
       "        text-align: right;\n",
       "    }\n",
       "</style>\n",
       "<table border=\"1\" class=\"dataframe\">\n",
       "  <thead>\n",
       "    <tr style=\"text-align: right;\">\n",
       "      <th>correct</th>\n",
       "      <th>False</th>\n",
       "      <th>True</th>\n",
       "    </tr>\n",
       "    <tr>\n",
       "      <th>error</th>\n",
       "      <th></th>\n",
       "      <th></th>\n",
       "    </tr>\n",
       "  </thead>\n",
       "  <tbody>\n",
       "    <tr>\n",
       "      <th>False</th>\n",
       "      <td>220</td>\n",
       "      <td>4092</td>\n",
       "    </tr>\n",
       "    <tr>\n",
       "      <th>True</th>\n",
       "      <td>329</td>\n",
       "      <td>275</td>\n",
       "    </tr>\n",
       "  </tbody>\n",
       "</table>\n",
       "</div>"
      ],
      "text/plain": [
       "correct  False  True \n",
       "error                \n",
       "False      220   4092\n",
       "True       329    275"
      ]
     },
     "metadata": {},
     "output_type": "display_data"
    },
    {
     "data": {
      "text/html": [
       "<div>\n",
       "<style scoped>\n",
       "    .dataframe tbody tr th:only-of-type {\n",
       "        vertical-align: middle;\n",
       "    }\n",
       "\n",
       "    .dataframe tbody tr th {\n",
       "        vertical-align: top;\n",
       "    }\n",
       "\n",
       "    .dataframe thead th {\n",
       "        text-align: right;\n",
       "    }\n",
       "</style>\n",
       "<table border=\"1\" class=\"dataframe\">\n",
       "  <thead>\n",
       "    <tr style=\"text-align: right;\">\n",
       "      <th></th>\n",
       "      <th>prob</th>\n",
       "      <th>rank</th>\n",
       "      <th>correct</th>\n",
       "      <th>time</th>\n",
       "    </tr>\n",
       "    <tr>\n",
       "      <th>model</th>\n",
       "      <th></th>\n",
       "      <th></th>\n",
       "      <th></th>\n",
       "      <th></th>\n",
       "    </tr>\n",
       "  </thead>\n",
       "  <tbody>\n",
       "    <tr>\n",
       "      <th>Keyboard Only</th>\n",
       "      <td>0.821</td>\n",
       "      <td>1.545</td>\n",
       "      <td>0.893</td>\n",
       "      <td>0.079</td>\n",
       "    </tr>\n",
       "    <tr>\n",
       "      <th>LM + Keyboard</th>\n",
       "      <td>0.876</td>\n",
       "      <td>1.105</td>\n",
       "      <td>0.923</td>\n",
       "      <td>0.291</td>\n",
       "    </tr>\n",
       "    <tr>\n",
       "      <th>LM Only</th>\n",
       "      <td>0.742</td>\n",
       "      <td>1.512</td>\n",
       "      <td>0.810</td>\n",
       "      <td>0.259</td>\n",
       "    </tr>\n",
       "    <tr>\n",
       "      <th>new_kbd</th>\n",
       "      <td>0.917</td>\n",
       "      <td>1.203</td>\n",
       "      <td>0.928</td>\n",
       "      <td>0.235</td>\n",
       "    </tr>\n",
       "  </tbody>\n",
       "</table>\n",
       "</div>"
      ],
      "text/plain": [
       "                prob   rank  correct   time\n",
       "model                                      \n",
       "Keyboard Only  0.821  1.545    0.893  0.079\n",
       "LM + Keyboard  0.876  1.105    0.923  0.291\n",
       "LM Only        0.742  1.512    0.810  0.259\n",
       "new_kbd        0.917  1.203    0.928  0.235"
      ]
     },
     "metadata": {},
     "output_type": "display_data"
    }
   ],
   "source": [
    "grade_dfs = []\n",
    "\n",
    "for path, name in [    \n",
    "    ('optimized_probs_new_kbd', 'new_kbd'),\n",
    "    ('optimized_probs', 'LM + Keyboard'),\n",
    "    ('kbd_probs', 'Keyboard Only'),\n",
    "    ('lm_probs', 'LM Only')\n",
    "]:\n",
    "    with open(f'results/{path}.pkl', 'rb') as f:\n",
    "        results = pickle.load(f)\n",
    "        grades = grade_all(results)\n",
    "        grades['model'] = name\n",
    "        grade_dfs.append(grades)\n",
    "\n",
    "grades = pd.concat(grade_dfs, axis=0).reset_index(names='i')\n",
    "grades['in_list'] = ~pd.isna(grades['rank'])\n",
    "\n",
    "display(pd.crosstab(grades['error'], grades['correct']))\n",
    "\n",
    "display(grades.groupby('model').mean().round(3)[['prob', 'rank', 'correct', 'time']])\n",
    "# display(grades.query('error').groupby('model').mean().round(2)[['prob', 'rank', 'correct']])\n",
    "\n",
    "# with sns.plotting_context('talk'):\n",
    "#     g = sns.displot(grades, x='prob', row='model', aspect=2)\n",
    "#     g.set_titles('{row_name}')\n",
    "#     for ax in g.axes.flatten():\n",
    "#         rp.ylabel_top(ax=ax)\n",
    "\n",
    "#     g = sns.displot(grades, x='rank', discrete=True, row='model')\n",
    "#     for ax in g.axes.flatten():\n",
    "#         rp.ylabel_top(ax=ax)"
   ]
  },
  {
   "cell_type": "code",
   "execution_count": 89,
   "metadata": {},
   "outputs": [],
   "source": [
    "# thread_df = grades.query('model == \"LM + Keyboard\"').copy().drop(columns=['model'])\n",
    "# thread_df['cores'] = 2\n",
    "# res_df['cores'] = 1\n",
    "\n",
    "# thread_df = pd.concat([thread_df, res_df])\n",
    "# thread_df\n",
    "\n",
    "# thread_df.groupby('cores').agg({'time': lambda x: np.mean(x > 0.8)}) * 100\n",
    "\n",
    "# sns.boxplot(thread_df, x='time', hue='cores', palette='tab10')\n",
    "# plt.suptitle('Seconds Per Word')\n",
    "\n",
    "# critic = grades.query('model == \"LM + Keyboard\"')\n",
    "# pd.crosstab(critic['error'], critic['correct'])"
   ]
  },
  {
   "cell_type": "code",
   "execution_count": 90,
   "metadata": {},
   "outputs": [
    {
     "data": {
      "text/html": [
       "<div>\n",
       "<style scoped>\n",
       "    .dataframe tbody tr th:only-of-type {\n",
       "        vertical-align: middle;\n",
       "    }\n",
       "\n",
       "    .dataframe tbody tr th {\n",
       "        vertical-align: top;\n",
       "    }\n",
       "\n",
       "    .dataframe thead th {\n",
       "        text-align: right;\n",
       "    }\n",
       "</style>\n",
       "<table border=\"1\" class=\"dataframe\">\n",
       "  <thead>\n",
       "    <tr style=\"text-align: right;\">\n",
       "      <th></th>\n",
       "      <th>prob</th>\n",
       "      <th>rank</th>\n",
       "      <th>error</th>\n",
       "      <th>correct</th>\n",
       "      <th>time</th>\n",
       "    </tr>\n",
       "    <tr>\n",
       "      <th>model</th>\n",
       "      <th></th>\n",
       "      <th></th>\n",
       "      <th></th>\n",
       "      <th></th>\n",
       "      <th></th>\n",
       "    </tr>\n",
       "  </thead>\n",
       "  <tbody>\n",
       "    <tr>\n",
       "      <th>Keyboard Only</th>\n",
       "      <td>0.141</td>\n",
       "      <td>6.560</td>\n",
       "      <td>1.0</td>\n",
       "      <td>0.181</td>\n",
       "      <td>0.085</td>\n",
       "    </tr>\n",
       "    <tr>\n",
       "      <th>LM + Keyboard</th>\n",
       "      <td>0.748</td>\n",
       "      <td>1.655</td>\n",
       "      <td>1.0</td>\n",
       "      <td>0.776</td>\n",
       "      <td>0.335</td>\n",
       "    </tr>\n",
       "    <tr>\n",
       "      <th>LM Only</th>\n",
       "      <td>0.778</td>\n",
       "      <td>1.560</td>\n",
       "      <td>1.0</td>\n",
       "      <td>0.828</td>\n",
       "      <td>0.301</td>\n",
       "    </tr>\n",
       "    <tr>\n",
       "      <th>new_kbd</th>\n",
       "      <td>0.570</td>\n",
       "      <td>3.017</td>\n",
       "      <td>1.0</td>\n",
       "      <td>0.586</td>\n",
       "      <td>0.245</td>\n",
       "    </tr>\n",
       "  </tbody>\n",
       "</table>\n",
       "</div>"
      ],
      "text/plain": [
       "                prob   rank  error  correct   time\n",
       "model                                             \n",
       "Keyboard Only  0.141  6.560    1.0    0.181  0.085\n",
       "LM + Keyboard  0.748  1.655    1.0    0.776  0.335\n",
       "LM Only        0.778  1.560    1.0    0.828  0.301\n",
       "new_kbd        0.570  3.017    1.0    0.586  0.245"
      ]
     },
     "execution_count": 90,
     "metadata": {},
     "output_type": "execute_result"
    }
   ],
   "source": [
    "grades.query('in_list and error').groupby('model').mean().drop(columns=['i', 'in_list']).round(3)"
   ]
  },
  {
   "cell_type": "code",
   "execution_count": 91,
   "metadata": {},
   "outputs": [
    {
     "data": {
      "text/html": [
       "<div>\n",
       "<style scoped>\n",
       "    .dataframe tbody tr th:only-of-type {\n",
       "        vertical-align: middle;\n",
       "    }\n",
       "\n",
       "    .dataframe tbody tr th {\n",
       "        vertical-align: top;\n",
       "    }\n",
       "\n",
       "    .dataframe thead th {\n",
       "        text-align: right;\n",
       "    }\n",
       "</style>\n",
       "<table border=\"1\" class=\"dataframe\">\n",
       "  <thead>\n",
       "    <tr style=\"text-align: right;\">\n",
       "      <th>model</th>\n",
       "      <th>Keyboard Only</th>\n",
       "      <th>LM + Keyboard</th>\n",
       "      <th>LM Only</th>\n",
       "      <th>new_kbd</th>\n",
       "    </tr>\n",
       "    <tr>\n",
       "      <th>i</th>\n",
       "      <th></th>\n",
       "      <th></th>\n",
       "      <th></th>\n",
       "      <th></th>\n",
       "    </tr>\n",
       "  </thead>\n",
       "  <tbody>\n",
       "    <tr>\n",
       "      <th>567</th>\n",
       "      <td>True</td>\n",
       "      <td>False</td>\n",
       "      <td>False</td>\n",
       "      <td>False</td>\n",
       "    </tr>\n",
       "    <tr>\n",
       "      <th>1086</th>\n",
       "      <td>True</td>\n",
       "      <td>False</td>\n",
       "      <td>False</td>\n",
       "      <td>False</td>\n",
       "    </tr>\n",
       "    <tr>\n",
       "      <th>1189</th>\n",
       "      <td>True</td>\n",
       "      <td>False</td>\n",
       "      <td>False</td>\n",
       "      <td>False</td>\n",
       "    </tr>\n",
       "  </tbody>\n",
       "</table>\n",
       "</div>"
      ],
      "text/plain": [
       "model  Keyboard Only  LM + Keyboard  LM Only  new_kbd\n",
       "i                                                    \n",
       "567             True          False    False    False\n",
       "1086            True          False    False    False\n",
       "1189            True          False    False    False"
      ]
     },
     "execution_count": 91,
     "metadata": {},
     "output_type": "execute_result"
    }
   ],
   "source": [
    "grades.pivot(index='i', columns='model', values='correct').query('`Keyboard Only` and not new_kbd')"
   ]
  },
  {
   "cell_type": "code",
   "execution_count": 92,
   "metadata": {},
   "outputs": [
    {
     "data": {
      "text/plain": [
       "(1229, 1229)"
      ]
     },
     "execution_count": 92,
     "metadata": {},
     "output_type": "execute_result"
    }
   ],
   "source": [
    "with open('results/kbd_probs.pkl' , 'rb') as f:\n",
    "    kbd = pickle.load(f)\n",
    "\n",
    "with open('results/lm_probs.pkl' , 'rb') as f:\n",
    "    lm = pickle.load(f)\n",
    "\n",
    "len(kbd), len(lm)"
   ]
  },
  {
   "cell_type": "code",
   "execution_count": 96,
   "metadata": {},
   "outputs": [
    {
     "data": {
      "text/plain": [
       "CorrectionResult(true='mechanised', typed='mechanised', corrs=Corrections(words=['mechanised', 'mechanized', 'mechanism', 'mechanistic', 'merchandised', 'mechanics', 'mechanize', 'machinist'], probs=array([5.75828005e-01, 4.17477216e-01, 4.22678311e-05, 5.88135245e-08,\n",
       "       1.90509040e-06, 4.05786076e-04, 6.24476166e-03, 4.98145636e-14])), context='Northern forces had captured a southern ', time=0.06160583905875683)"
      ]
     },
     "execution_count": 96,
     "metadata": {},
     "output_type": "execute_result"
    }
   ],
   "source": [
    "kbd[1189]"
   ]
  },
  {
   "cell_type": "code",
   "execution_count": 98,
   "metadata": {},
   "outputs": [
    {
     "data": {
      "text/plain": [
       "CorrectionResult(true='mechanised', typed='mechanised', corrs=Corrections(words=['mechanised', 'mechanized', 'mechanism', 'mechanistic', 'merchandised', 'mechanics', 'mechanize', 'machinist'], probs=array([2.83025081e-03, 6.11300945e-01, 3.25472940e-01, 9.74976475e-04,\n",
       "       2.00014691e-04, 4.82666336e-02, 3.00361290e-04, 1.06538777e-02])), context='Northern forces had captured a southern ', time=0.5602793160360307)"
      ]
     },
     "execution_count": 98,
     "metadata": {},
     "output_type": "execute_result"
    }
   ],
   "source": [
    "lm[1189]"
   ]
  },
  {
   "cell_type": "code",
   "execution_count": 51,
   "metadata": {},
   "outputs": [
    {
     "data": {
      "text/html": [
       "<div>\n",
       "<style scoped>\n",
       "    .dataframe tbody tr th:only-of-type {\n",
       "        vertical-align: middle;\n",
       "    }\n",
       "\n",
       "    .dataframe tbody tr th {\n",
       "        vertical-align: top;\n",
       "    }\n",
       "\n",
       "    .dataframe thead th {\n",
       "        text-align: right;\n",
       "    }\n",
       "</style>\n",
       "<table border=\"1\" class=\"dataframe\">\n",
       "  <thead>\n",
       "    <tr style=\"text-align: right;\">\n",
       "      <th></th>\n",
       "      <th>p_clean</th>\n",
       "      <th>t_clean</th>\n",
       "    </tr>\n",
       "  </thead>\n",
       "  <tbody>\n",
       "    <tr>\n",
       "      <th>0</th>\n",
       "      <td>1.5 million visitors will flood Atlanta each d...</td>\n",
       "      <td>1.5 million visitors will flood Atlanta each d...</td>\n",
       "    </tr>\n",
       "    <tr>\n",
       "      <th>1</th>\n",
       "      <td>1.5 million visitors will flood Atlanta each d...</td>\n",
       "      <td>1.5 million visitors will flood Atlanta each d...</td>\n",
       "    </tr>\n",
       "    <tr>\n",
       "      <th>10</th>\n",
       "      <td>2nd since so many people are out of the office...</td>\n",
       "      <td>2nd since so many people are out of the office...</td>\n",
       "    </tr>\n",
       "    <tr>\n",
       "      <th>11</th>\n",
       "      <td>2nd since so many people are out of the office...</td>\n",
       "      <td>2nd science so many peoples are out of the off...</td>\n",
       "    </tr>\n",
       "    <tr>\n",
       "      <th>12</th>\n",
       "      <td>A Hungarian neuro surgeon said that medical su...</td>\n",
       "      <td>A hungarian neuro surgeon sad that medical sup...</td>\n",
       "    </tr>\n",
       "    <tr>\n",
       "      <th>...</th>\n",
       "      <td>...</td>\n",
       "      <td>...</td>\n",
       "    </tr>\n",
       "    <tr>\n",
       "      <th>9974</th>\n",
       "      <td>Sounds good to me.</td>\n",
       "      <td>Sounds ood to me</td>\n",
       "    </tr>\n",
       "    <tr>\n",
       "      <th>9977</th>\n",
       "      <td>The filing concerns various scheduling and bal...</td>\n",
       "      <td>The filing concerns various scheduling and ala...</td>\n",
       "    </tr>\n",
       "    <tr>\n",
       "      <th>9978</th>\n",
       "      <td>Diplomats are predicting that the embargo will...</td>\n",
       "      <td>Diplomats are predicting the that embargo will...</td>\n",
       "    </tr>\n",
       "    <tr>\n",
       "      <th>9981</th>\n",
       "      <td>Thank you for all your help.</td>\n",
       "      <td>Thank you for all your help</td>\n",
       "    </tr>\n",
       "    <tr>\n",
       "      <th>9987</th>\n",
       "      <td>I think that we should enforce the agreement.</td>\n",
       "      <td>hudI think that we should enforce the agreement.</td>\n",
       "    </tr>\n",
       "  </tbody>\n",
       "</table>\n",
       "<p>3568 rows × 2 columns</p>\n",
       "</div>"
      ],
      "text/plain": [
       "                                                p_clean  \\\n",
       "0     1.5 million visitors will flood Atlanta each d...   \n",
       "1     1.5 million visitors will flood Atlanta each d...   \n",
       "10    2nd since so many people are out of the office...   \n",
       "11    2nd since so many people are out of the office...   \n",
       "12    A Hungarian neuro surgeon said that medical su...   \n",
       "...                                                 ...   \n",
       "9974                                 Sounds good to me.   \n",
       "9977  The filing concerns various scheduling and bal...   \n",
       "9978  Diplomats are predicting that the embargo will...   \n",
       "9981                       Thank you for all your help.   \n",
       "9987      I think that we should enforce the agreement.   \n",
       "\n",
       "                                                t_clean  \n",
       "0     1.5 million visitors will flood Atlanta each d...  \n",
       "1     1.5 million visitors will flood Atlanta each d...  \n",
       "10    2nd since so many people are out of the office...  \n",
       "11    2nd science so many peoples are out of the off...  \n",
       "12    A hungarian neuro surgeon sad that medical sup...  \n",
       "...                                                 ...  \n",
       "9974                                   Sounds ood to me  \n",
       "9977  The filing concerns various scheduling and ala...  \n",
       "9978  Diplomats are predicting the that embargo will...  \n",
       "9981                        Thank you for all your help  \n",
       "9987   hudI think that we should enforce the agreement.  \n",
       "\n",
       "[3568 rows x 2 columns]"
      ]
     },
     "execution_count": 51,
     "metadata": {},
     "output_type": "execute_result"
    }
   ],
   "source": [
    "valid"
   ]
  },
  {
   "cell_type": "code",
   "execution_count": 39,
   "metadata": {},
   "outputs": [],
   "source": [
    "from scipy.special import logit, softmax\n",
    "from scipy.optimize import minimize_scalar\n",
    "\n",
    "@np.vectorize\n",
    "def objective(lm_w):    \n",
    "    probs = []\n",
    "    for r1, r2 in zip(kbd, lm):\n",
    "        s1 = r1.corrs.as_series()\n",
    "        s2 = r2.corrs.as_series().loc[s1.index]\n",
    "\n",
    "        s3 = lm_w * logit(s1) + (1 - lm_w) * logit(s2)\n",
    "        s3.iloc[:] = softmax(s3)\n",
    "        probs.append(s3.to_dict().get(r1.true, 0))\n",
    "    return np.mean(probs)\n",
    "\n",
    "ww = np.linspace(0.1, 0.9, 7)\n",
    "oo = objective(ww)"
   ]
  },
  {
   "cell_type": "code",
   "execution_count": 40,
   "metadata": {},
   "outputs": [
    {
     "data": {
      "text/plain": [
       "[<matplotlib.lines.Line2D at 0x7ac5781b7010>]"
      ]
     },
     "execution_count": 40,
     "metadata": {},
     "output_type": "execute_result"
    },
    {
     "data": {
      "image/png": "[encoded data removed]",
      "text/plain": [
       "<Figure size 800x600 with 1 Axes>"
      ]
     },
     "metadata": {},
     "output_type": "display_data"
    }
   ],
   "source": [
    "plt.plot(ww, oo)"
   ]
  },
  {
   "cell_type": "code",
   "execution_count": 29,
   "metadata": {},
   "outputs": [
    {
     "data": {
      "text/plain": [
       "3"
      ]
     },
     "execution_count": 29,
     "metadata": {},
     "output_type": "execute_result"
    }
   ],
   "source": [
    "min(p.shape[1] for p in probs)"
   ]
  },
  {
   "cell_type": "code",
   "execution_count": null,
   "metadata": {},
   "outputs": [],
   "source": []
  },
  {
   "cell_type": "code",
   "execution_count": null,
   "metadata": {},
   "outputs": [],
   "source": []
  },
  {
   "cell_type": "code",
   "execution_count": 8,
   "metadata": {},
   "outputs": [
    {
     "name": "stderr",
     "output_type": "stream",
     "text": [
      "/home/nmiklaucic/miniconda3/envs/llm/lib/python3.11/site-packages/transformers/tokenization_utils_base.py:1601: FutureWarning: `clean_up_tokenization_spaces` was not set. It will be set to `True` by default. This behavior will be depracted in transformers v4.45, and will be then set to `False` by default. For more details check this issue: https://github.com/huggingface/transformers/issues/31884\n",
      "  warnings.warn(\n"
     ]
    },
    {
     "data": {
      "image/png": "[encoded data removed]",
      "text/plain": [
       "<Figure size 800x600 with 1 Axes>"
      ]
     },
     "metadata": {},
     "output_type": "display_data"
    }
   ],
   "source": [
    "from copy import deepcopy\n",
    "\n",
    "\n",
    "corrector = load_combo_corrector()\n",
    "\n",
    "\n",
    "kbd_corrector = corrector.base\n",
    "lm_corrector = load_combo_corrector()\n",
    "lm_corrector.base = UniformCorrector()\n",
    "\n",
    "\n",
    "context = ''\n",
    "word = 'Thr'\n",
    "# context = 'The coverage about me in the paper'\n",
    "# word = 'gas'\n",
    "\n",
    "\n",
    "corrector.push_words(context)\n",
    "lm_corrector.push_words(context)\n",
    "\n",
    "corrs = corrector.correct(word).as_series()\n",
    "kbd_corrs = kbd_corrector.correct(word).as_series()\n",
    "lm_corrs = lm_corrector.correct(word).as_series()\n",
    "\n",
    "\n",
    "df = pd.DataFrame({'Keyboard': kbd_corrs, 'LM': lm_corrs, 'CRITIC': corrs}).reset_index(names='Word').sort_values('CRITIC', ascending=False).iloc[:10].melt(var_name='Model', value_name='Probability', id_vars=['Word'])\n",
    "\n",
    "with sns.plotting_context('talk'):\n",
    "    sns.barplot(df, x='Probability', y='Word', orient='h', hue='Model')\n",
    "    plt.gca().set_title(f'{context} {word}')"
   ]
  },
  {
   "cell_type": "code",
   "execution_count": null,
   "metadata": {},
   "outputs": [],
   "source": []
  }
 ],
 "metadata": {
  "kernelspec": {
   "display_name": "critic",
   "language": "python",
   "name": "python3"
  },
  "language_info": {
   "codemirror_mode": {
    "name": "ipython",
    "version": 3
   },
   "file_extension": ".py",
   "mimetype": "text/x-python",
   "name": "python",
   "nbconvert_exporter": "python",
   "pygments_lexer": "ipython3",
   "version": "3.11.0"
  }
 },
 "nbformat": 4,
 "nbformat_minor": 2
}
