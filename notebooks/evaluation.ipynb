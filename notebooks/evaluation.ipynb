{
 "cells": [
  {
   "cell_type": "code",
   "execution_count": 1,
   "metadata": {},
   "outputs": [
    {
     "name": "stdout",
     "output_type": "stream",
     "text": [
      "/home/nicholas/programs/critic-llm\n"
     ]
    }
   ],
   "source": [
    "%cd ~/programs/critic-llm/\n",
    "import os\n",
    "\n",
    "os.environ['CUDA_VISIBLE_DEVICES'] = '0'\n",
    "import numpy as np\n",
    "import jax.numpy as jnp\n",
    "import jax\n",
    "import pandas as pd\n",
    "import matplotlib.pyplot as plt\n",
    "import seaborn as sns\n",
    "import rho_plus as rp\n",
    "\n",
    "is_dark = False\n",
    "theme, cs = rp.mpl_setup(is_dark)"
   ]
  },
  {
   "cell_type": "code",
   "execution_count": 2,
   "metadata": {},
   "outputs": [
    {
     "name": "stderr",
     "output_type": "stream",
     "text": [
      "An NVIDIA GPU may be present on this machine, but a CUDA-enabled jaxlib is not installed. Falling back to cpu.\n",
      "llama_new_context_with_model: n_ctx_per_seq (256) < n_ctx_train (131072) -- the full capacity of the model will not be utilized\n"
     ]
    }
   ],
   "source": [
    "from critic import load_llama_corrector\n",
    "from critic.simple_corrector import UniformCorrector\n",
    "corrector = load_llama_corrector(n_threads=2, new_kbd=True, kbd_weight=1)"
   ]
  },
  {
   "cell_type": "code",
   "execution_count": 3,
   "metadata": {},
   "outputs": [
    {
     "name": "stderr",
     "output_type": "stream",
     "text": [
      "llama_new_context_with_model: n_ctx_per_seq (256) < n_ctx_train (131072) -- the full capacity of the model will not be utilized\n"
     ]
    }
   ],
   "source": [
    "just_lm = load_llama_corrector()\n",
    "just_lm.base = UniformCorrector()"
   ]
  },
  {
   "cell_type": "code",
   "execution_count": 4,
   "metadata": {},
   "outputs": [
    {
     "name": "stdout",
     "output_type": "stream",
     "text": [
      "(35551, 12)\n"
     ]
    },
    {
     "data": {
      "text/html": [
       "<div>\n",
       "<style scoped>\n",
       "    .dataframe tbody tr th:only-of-type {\n",
       "        vertical-align: middle;\n",
       "    }\n",
       "\n",
       "    .dataframe tbody tr th {\n",
       "        vertical-align: top;\n",
       "    }\n",
       "\n",
       "    .dataframe thead th {\n",
       "        text-align: right;\n",
       "    }\n",
       "</style>\n",
       "<table border=\"1\" class=\"dataframe\">\n",
       "  <thead>\n",
       "    <tr style=\"text-align: right;\">\n",
       "      <th></th>\n",
       "      <th>kind</th>\n",
       "      <th>corrected</th>\n",
       "      <th>participant</th>\n",
       "      <th>weight</th>\n",
       "      <th>p</th>\n",
       "      <th>t</th>\n",
       "      <th>ist</th>\n",
       "      <th>i</th>\n",
       "      <th>j</th>\n",
       "      <th>context</th>\n",
       "      <th>wrong_char</th>\n",
       "      <th>right_char</th>\n",
       "    </tr>\n",
       "  </thead>\n",
       "  <tbody>\n",
       "    <tr>\n",
       "      <th>0</th>\n",
       "      <td>omission</td>\n",
       "      <td>False</td>\n",
       "      <td>469</td>\n",
       "      <td>1.0</td>\n",
       "      <td>Can you help get this cleared up?</td>\n",
       "      <td>Can you help get th¬s cleared up?</td>\n",
       "      <td>Can you help get th␣s cleared up?</td>\n",
       "      <td>19</td>\n",
       "      <td>NaN</td>\n",
       "      <td>Can you help get this</td>\n",
       "      <td>s</td>\n",
       "      <td>i</td>\n",
       "    </tr>\n",
       "    <tr>\n",
       "      <th>1</th>\n",
       "      <td>substitute</td>\n",
       "      <td>True</td>\n",
       "      <td>469</td>\n",
       "      <td>1.0</td>\n",
       "      <td>Can you help get this cleared up?</td>\n",
       "      <td>Can you help get th¬s cleared up?</td>\n",
       "      <td>Can you help get th␣s cleared up?</td>\n",
       "      <td>20</td>\n",
       "      <td>19.0</td>\n",
       "      <td>Can you help get this c</td>\n",
       "      <td>␣</td>\n",
       "      <td>s</td>\n",
       "    </tr>\n",
       "    <tr>\n",
       "      <th>2</th>\n",
       "      <td>omission</td>\n",
       "      <td>False</td>\n",
       "      <td>469</td>\n",
       "      <td>1.0</td>\n",
       "      <td>Doctors gave him 10 years ␣␣␣␣␣␣␣␣␣␣␣␣to live ...</td>\n",
       "      <td>Doctors gave him 10 years¬␣␣␣␣␣␣␣␣␣␣␣␣to live ...</td>\n",
       "      <td>Doctors gave him 10 years␣ t liv␈␈␈␈␈␈to live ...</td>\n",
       "      <td>25</td>\n",
       "      <td>NaN</td>\n",
       "      <td>Doctors gave him 10 years to</td>\n",
       "      <td>t</td>\n",
       "      <td></td>\n",
       "    </tr>\n",
       "    <tr>\n",
       "      <th>3</th>\n",
       "      <td>insertion</td>\n",
       "      <td>True</td>\n",
       "      <td>469</td>\n",
       "      <td>1.0</td>\n",
       "      <td>Doctors gave him 10 years ␣␣␣␣␣␣␣␣␣␣␣␣to live ...</td>\n",
       "      <td>Doctors gave him 10 years¬␣␣␣␣␣␣␣␣␣␣␣␣to live ...</td>\n",
       "      <td>Doctors gave him 10 years␣ t liv␈␈␈␈␈␈to live ...</td>\n",
       "      <td>25</td>\n",
       "      <td>NaN</td>\n",
       "      <td>Doctors gave him 10 years to</td>\n",
       "      <td>␣</td>\n",
       "      <td>t</td>\n",
       "    </tr>\n",
       "    <tr>\n",
       "      <th>4</th>\n",
       "      <td>insertion</td>\n",
       "      <td>True</td>\n",
       "      <td>469</td>\n",
       "      <td>1.0</td>\n",
       "      <td>Doctors gave him 10 years ␣␣␣␣␣␣␣␣␣␣␣␣to live ...</td>\n",
       "      <td>Doctors gave him 10 years¬␣␣␣␣␣␣␣␣␣␣␣␣to live ...</td>\n",
       "      <td>Doctors gave him 10 years␣ t liv␈␈␈␈␈␈to live ...</td>\n",
       "      <td>26</td>\n",
       "      <td>NaN</td>\n",
       "      <td>Doctors gave him 10 years to</td>\n",
       "      <td></td>\n",
       "      <td>t</td>\n",
       "    </tr>\n",
       "  </tbody>\n",
       "</table>\n",
       "</div>"
      ],
      "text/plain": [
       "         kind  corrected participant  weight  \\\n",
       "0    omission      False         469     1.0   \n",
       "1  substitute       True         469     1.0   \n",
       "2    omission      False         469     1.0   \n",
       "3   insertion       True         469     1.0   \n",
       "4   insertion       True         469     1.0   \n",
       "\n",
       "                                                   p  \\\n",
       "0                  Can you help get this cleared up?   \n",
       "1                  Can you help get this cleared up?   \n",
       "2  Doctors gave him 10 years ␣␣␣␣␣␣␣␣␣␣␣␣to live ...   \n",
       "3  Doctors gave him 10 years ␣␣␣␣␣␣␣␣␣␣␣␣to live ...   \n",
       "4  Doctors gave him 10 years ␣␣␣␣␣␣␣␣␣␣␣␣to live ...   \n",
       "\n",
       "                                                   t  \\\n",
       "0                  Can you help get th¬s cleared up?   \n",
       "1                  Can you help get th¬s cleared up?   \n",
       "2  Doctors gave him 10 years¬␣␣␣␣␣␣␣␣␣␣␣␣to live ...   \n",
       "3  Doctors gave him 10 years¬␣␣␣␣␣␣␣␣␣␣␣␣to live ...   \n",
       "4  Doctors gave him 10 years¬␣␣␣␣␣␣␣␣␣␣␣␣to live ...   \n",
       "\n",
       "                                                 ist   i     j  \\\n",
       "0                  Can you help get th␣s cleared up?  19   NaN   \n",
       "1                  Can you help get th␣s cleared up?  20  19.0   \n",
       "2  Doctors gave him 10 years␣ t liv␈␈␈␈␈␈to live ...  25   NaN   \n",
       "3  Doctors gave him 10 years␣ t liv␈␈␈␈␈␈to live ...  25   NaN   \n",
       "4  Doctors gave him 10 years␣ t liv␈␈␈␈␈␈to live ...  26   NaN   \n",
       "\n",
       "                        context wrong_char right_char  \n",
       "0        Can you help get this           s          i  \n",
       "1       Can you help get this c          ␣          s  \n",
       "2  Doctors gave him 10 years to          t             \n",
       "3  Doctors gave him 10 years to          ␣          t  \n",
       "4  Doctors gave him 10 years to                     t  "
      ]
     },
     "execution_count": 4,
     "metadata": {},
     "output_type": "execute_result"
    }
   ],
   "source": [
    "df = pd.read_feather('precomputed/all_typos.feather')\n",
    "print(df.shape)\n",
    "df.head()"
   ]
  },
  {
   "cell_type": "code",
   "execution_count": 5,
   "metadata": {},
   "outputs": [
    {
     "name": "stderr",
     "output_type": "stream",
     "text": [
      "/tmp/ipykernel_2553251/959341736.py:1: FutureWarning: The default of observed=False is deprecated and will be changed to True in a future version of pandas. Pass observed=False to retain current behavior or observed=True to adopt the future default and silence this warning.\n",
      "  last = df.groupby('p').last().reset_index()\n"
     ]
    },
    {
     "data": {
      "text/html": [
       "<div>\n",
       "<style scoped>\n",
       "    .dataframe tbody tr th:only-of-type {\n",
       "        vertical-align: middle;\n",
       "    }\n",
       "\n",
       "    .dataframe tbody tr th {\n",
       "        vertical-align: top;\n",
       "    }\n",
       "\n",
       "    .dataframe thead th {\n",
       "        text-align: right;\n",
       "    }\n",
       "</style>\n",
       "<table border=\"1\" class=\"dataframe\">\n",
       "  <thead>\n",
       "    <tr style=\"text-align: right;\">\n",
       "      <th></th>\n",
       "      <th>p_clean</th>\n",
       "      <th>t_clean</th>\n",
       "    </tr>\n",
       "  </thead>\n",
       "  <tbody>\n",
       "    <tr>\n",
       "      <th>3935</th>\n",
       "      <td>If the Penskes have any luck at all, they coul...</td>\n",
       "      <td>If the Penskes have any luck as all, they coul...</td>\n",
       "    </tr>\n",
       "    <tr>\n",
       "      <th>3939</th>\n",
       "      <td>If the Penskes have any luck at all, they coul...</td>\n",
       "      <td>If the Penskes have any luck at all, tey could...</td>\n",
       "    </tr>\n",
       "    <tr>\n",
       "      <th>3941</th>\n",
       "      <td>If we don't get it, could be trouble.</td>\n",
       "      <td>If we don't get it, could be trouble</td>\n",
       "    </tr>\n",
       "    <tr>\n",
       "      <th>3945</th>\n",
       "      <td>If we don't get it, could be trouble.</td>\n",
       "      <td>If we do't get it, could be trouble.</td>\n",
       "    </tr>\n",
       "    <tr>\n",
       "      <th>3947</th>\n",
       "      <td>If we don't get it, could be trouble.</td>\n",
       "      <td>If we dont get it, could be trouble.</td>\n",
       "    </tr>\n",
       "  </tbody>\n",
       "</table>\n",
       "</div>"
      ],
      "text/plain": [
       "                                                p_clean  \\\n",
       "3935  If the Penskes have any luck at all, they coul...   \n",
       "3939  If the Penskes have any luck at all, they coul...   \n",
       "3941              If we don't get it, could be trouble.   \n",
       "3945              If we don't get it, could be trouble.   \n",
       "3947              If we don't get it, could be trouble.   \n",
       "\n",
       "                                                t_clean  \n",
       "3935  If the Penskes have any luck as all, they coul...  \n",
       "3939  If the Penskes have any luck at all, tey could...  \n",
       "3941               If we don't get it, could be trouble  \n",
       "3945               If we do't get it, could be trouble.  \n",
       "3947               If we dont get it, could be trouble.  "
      ]
     },
     "execution_count": 5,
     "metadata": {},
     "output_type": "execute_result"
    }
   ],
   "source": [
    "last = df.groupby('p').last().reset_index()\n",
    "prompts = last['p']\n",
    "text = last['t']\n",
    "\n",
    "def clean(series):\n",
    "    return series.str.replace('␣', '').str.replace('¬', '')\n",
    "\n",
    "last['p_clean'] = clean(prompts)\n",
    "last['t_clean'] = clean(text)\n",
    "\n",
    "\n",
    "clean = last[last['p_clean'].str.lower() != last['t_clean'].str.lower()][['p_clean', 't_clean']]\n",
    "\n",
    "valid = clean[clean['p_clean'].str.count(' ') == clean['t_clean'].str.count(' ')]\n",
    "valid[valid['p_clean'].str.contains('could be')]"
   ]
  },
  {
   "cell_type": "code",
   "execution_count": 6,
   "metadata": {},
   "outputs": [],
   "source": [
    "import pickle\n",
    "from dataclasses import dataclass\n",
    "from time import perf_counter\n",
    "from tqdm import tqdm\n",
    "from string import ascii_lowercase\n",
    "\n",
    "from critic.corrector import Corrections\n",
    "from critic.kbd_layout import QWERTY\n",
    "from critic.simple_corrector import SimpleCorrector, UniformCorrector\n",
    "\n",
    "@dataclass\n",
    "class CorrectionResult:\n",
    "    true: str\n",
    "    typed: str\n",
    "    corrs: Corrections\n",
    "    context: str\n",
    "    time: float\n",
    "\n",
    "\n",
    "def evaluate(corrector, path):\n",
    "    results = []\n",
    "    data = valid[1::10]\n",
    "    for i, row in tqdm(data.iterrows(), total=data.shape[0]):\n",
    "        corrector.clear_context()\n",
    "        context = ''\n",
    "\n",
    "        p_words = row['p_clean'].split(' ')\n",
    "        t_words = row['t_clean'].split(' ')\n",
    "\n",
    "        for true, typed in zip(p_words, t_words):\n",
    "            if all(c.lower() in ascii_lowercase for c in true + typed):\n",
    "                start = perf_counter()\n",
    "                corrs = corrector.correct(typed)\n",
    "                end = perf_counter()\n",
    "                results.append(CorrectionResult(true, typed, corrs, context, end - start))\n",
    "\n",
    "            corrector.push_word(true)\n",
    "            context += true + ' '\n",
    "\n",
    "    print(len(results))\n",
    "\n",
    "    with open(f'results/{path}.pkl', 'wb') as f:\n",
    "        pickle.dump(results, f)\n",
    "\n",
    "    return results\n",
    "\n",
    "\n",
    "# opt_results = evaluate(corrector, 'optimized_probs')\n",
    "# kbd_results = evaluate(corrector.base, 'kbd_probs')\n",
    "# lm_results = evaluate(just_lm, 'lm_probs')\n",
    "# corrector.base.model = old_mod\n",
    "# evaluate(corrector, 'old_probs')\n",
    "\n",
    "# simple = SimpleCorrector()\n",
    "# simple_results = evaluate(simple, 'simple_probs')"
   ]
  },
  {
   "cell_type": "code",
   "execution_count": 7,
   "metadata": {},
   "outputs": [],
   "source": [
    "from typing import Sequence\n",
    "\n",
    "\n",
    "def grade(res: CorrectionResult):\n",
    "    corrs = res.corrs.as_series().sort_values(ascending=False)\n",
    "    if res.true in corrs.index:\n",
    "        data = {\n",
    "            'prob': corrs[res.true],\n",
    "            'rank': list(corrs.index).index(res.true) + 1\n",
    "        }\n",
    "    else:\n",
    "        data = {\n",
    "            'prob': 0,\n",
    "            'rank': np.nan\n",
    "        }\n",
    "\n",
    "    data['error'] = res.true != res.typed\n",
    "    data['correct'] = res.true == corrs.index[0]\n",
    "    data['time'] = res.time\n",
    "\n",
    "    return data\n",
    "\n",
    "def grade_all(results: Sequence[CorrectionResult]):\n",
    "    return pd.DataFrame([grade(res) for res in results])\n",
    "\n",
    "# res_df = grade_all(opt_results)\n",
    "# display(res_df.mean().round(3))\n",
    "# res_df"
   ]
  },
  {
   "cell_type": "code",
   "execution_count": 8,
   "metadata": {},
   "outputs": [
    {
     "data": {
      "text/html": [
       "<div>\n",
       "<style scoped>\n",
       "    .dataframe tbody tr th:only-of-type {\n",
       "        vertical-align: middle;\n",
       "    }\n",
       "\n",
       "    .dataframe tbody tr th {\n",
       "        vertical-align: top;\n",
       "    }\n",
       "\n",
       "    .dataframe thead th {\n",
       "        text-align: right;\n",
       "    }\n",
       "</style>\n",
       "<table border=\"1\" class=\"dataframe\">\n",
       "  <thead>\n",
       "    <tr style=\"text-align: right;\">\n",
       "      <th>correct</th>\n",
       "      <th>False</th>\n",
       "      <th>True</th>\n",
       "    </tr>\n",
       "    <tr>\n",
       "      <th>error</th>\n",
       "      <th></th>\n",
       "      <th></th>\n",
       "    </tr>\n",
       "  </thead>\n",
       "  <tbody>\n",
       "    <tr>\n",
       "      <th>False</th>\n",
       "      <td>18</td>\n",
       "      <td>2158</td>\n",
       "    </tr>\n",
       "    <tr>\n",
       "      <th>True</th>\n",
       "      <td>200</td>\n",
       "      <td>127</td>\n",
       "    </tr>\n",
       "  </tbody>\n",
       "</table>\n",
       "</div>"
      ],
      "text/plain": [
       "correct  False  True \n",
       "error                \n",
       "False       18   2158\n",
       "True       200    127"
      ]
     },
     "metadata": {},
     "output_type": "display_data"
    },
    {
     "data": {
      "text/html": [
       "<div>\n",
       "<style scoped>\n",
       "    .dataframe tbody tr th:only-of-type {\n",
       "        vertical-align: middle;\n",
       "    }\n",
       "\n",
       "    .dataframe tbody tr th {\n",
       "        vertical-align: top;\n",
       "    }\n",
       "\n",
       "    .dataframe thead th {\n",
       "        text-align: right;\n",
       "    }\n",
       "</style>\n",
       "<table border=\"1\" class=\"dataframe\">\n",
       "  <thead>\n",
       "    <tr style=\"text-align: right;\">\n",
       "      <th></th>\n",
       "      <th>prob</th>\n",
       "      <th>rank</th>\n",
       "      <th>correct</th>\n",
       "      <th>time</th>\n",
       "    </tr>\n",
       "    <tr>\n",
       "      <th>model</th>\n",
       "      <th></th>\n",
       "      <th></th>\n",
       "      <th></th>\n",
       "      <th></th>\n",
       "    </tr>\n",
       "  </thead>\n",
       "  <tbody>\n",
       "    <tr>\n",
       "      <th>Keyboard Only</th>\n",
       "      <td>0.819</td>\n",
       "      <td>1.520</td>\n",
       "      <td>0.883</td>\n",
       "      <td>0.078</td>\n",
       "    </tr>\n",
       "    <tr>\n",
       "      <th>LM + Keyboard</th>\n",
       "      <td>0.905</td>\n",
       "      <td>1.263</td>\n",
       "      <td>0.913</td>\n",
       "      <td>0.345</td>\n",
       "    </tr>\n",
       "    <tr>\n",
       "      <th>LM Only</th>\n",
       "      <td>0.743</td>\n",
       "      <td>1.547</td>\n",
       "      <td>0.805</td>\n",
       "      <td>0.264</td>\n",
       "    </tr>\n",
       "  </tbody>\n",
       "</table>\n",
       "</div>"
      ],
      "text/plain": [
       "                prob   rank  correct   time\n",
       "model                                      \n",
       "Keyboard Only  0.819  1.520    0.883  0.078\n",
       "LM + Keyboard  0.905  1.263    0.913  0.345\n",
       "LM Only        0.743  1.547    0.805  0.264"
      ]
     },
     "metadata": {},
     "output_type": "display_data"
    }
   ],
   "source": [
    "grade_dfs = []\n",
    "\n",
    "for path, name in [    \n",
    "    ('optimized_probs', 'LM + Keyboard'),\n",
    "    ('kbd_probs', 'Keyboard Only'),\n",
    "    ('lm_probs', 'LM Only')\n",
    "]:\n",
    "    with open(f'results/{path}.pkl', 'rb') as f:\n",
    "        results = pickle.load(f)\n",
    "        grades = grade_all(results)\n",
    "        grades['model'] = name\n",
    "        grade_dfs.append(grades)\n",
    "\n",
    "grades = pd.concat(grade_dfs, axis=0).reset_index(names='i')\n",
    "grades['in_list'] = ~pd.isna(grades['rank'])\n",
    "\n",
    "display(pd.crosstab(grades.query('model == \"LM + Keyboard\"')['error'], grades.query('model == \"LM + Keyboard\"')['correct']))\n",
    "\n",
    "display(grades.groupby('model').mean().round(3)[['prob', 'rank', 'correct', 'time']])\n",
    "# display(grades.query('error').groupby('model').mean().round(2)[['prob', 'rank', 'correct']])\n",
    "\n",
    "# with sns.plotting_context('talk'):\n",
    "#     g = sns.displot(grades, x='prob', row='model', aspect=2)\n",
    "#     g.set_titles('{row_name}')\n",
    "#     for ax in g.axes.flatten():\n",
    "#         rp.ylabel_top(ax=ax)\n",
    "\n",
    "#     g = sns.displot(grades, x='rank', discrete=True, row='model')\n",
    "#     for ax in g.axes.flatten():\n",
    "#         rp.ylabel_top(ax=ax)"
   ]
  },
  {
   "cell_type": "code",
   "execution_count": 9,
   "metadata": {},
   "outputs": [],
   "source": [
    "# thread_df = grades.query('model == \"LM + Keyboard\"').copy().drop(columns=['model'])\n",
    "# thread_df['cores'] = 2\n",
    "# res_df['cores'] = 1\n",
    "\n",
    "# thread_df = pd.concat([thread_df, res_df])\n",
    "# thread_df\n",
    "\n",
    "# thread_df.groupby('cores').agg({'time': lambda x: np.mean(x > 0.8)}) * 100\n",
    "\n",
    "# sns.boxplot(thread_df, x='time', hue='cores', palette='tab10')\n",
    "# plt.suptitle('Seconds Per Word')\n",
    "\n",
    "# critic = grades.query('model == \"LM + Keyboard\"')\n",
    "# pd.crosstab(critic['error'], critic['correct'])"
   ]
  },
  {
   "cell_type": "code",
   "execution_count": 10,
   "metadata": {},
   "outputs": [
    {
     "data": {
      "text/html": [
       "<div>\n",
       "<style scoped>\n",
       "    .dataframe tbody tr th:only-of-type {\n",
       "        vertical-align: middle;\n",
       "    }\n",
       "\n",
       "    .dataframe tbody tr th {\n",
       "        vertical-align: top;\n",
       "    }\n",
       "\n",
       "    .dataframe thead th {\n",
       "        text-align: right;\n",
       "    }\n",
       "</style>\n",
       "<table border=\"1\" class=\"dataframe\">\n",
       "  <thead>\n",
       "    <tr style=\"text-align: right;\">\n",
       "      <th></th>\n",
       "      <th>prob</th>\n",
       "      <th>rank</th>\n",
       "      <th>error</th>\n",
       "      <th>correct</th>\n",
       "      <th>time</th>\n",
       "    </tr>\n",
       "    <tr>\n",
       "      <th>model</th>\n",
       "      <th></th>\n",
       "      <th></th>\n",
       "      <th></th>\n",
       "      <th></th>\n",
       "      <th></th>\n",
       "    </tr>\n",
       "  </thead>\n",
       "  <tbody>\n",
       "    <tr>\n",
       "      <th>Keyboard Only</th>\n",
       "      <td>0.161</td>\n",
       "      <td>5.929</td>\n",
       "      <td>1.0</td>\n",
       "      <td>0.187</td>\n",
       "      <td>0.081</td>\n",
       "    </tr>\n",
       "    <tr>\n",
       "      <th>LM + Keyboard</th>\n",
       "      <td>0.509</td>\n",
       "      <td>3.440</td>\n",
       "      <td>1.0</td>\n",
       "      <td>0.504</td>\n",
       "      <td>0.399</td>\n",
       "    </tr>\n",
       "    <tr>\n",
       "      <th>LM Only</th>\n",
       "      <td>0.752</td>\n",
       "      <td>1.480</td>\n",
       "      <td>1.0</td>\n",
       "      <td>0.786</td>\n",
       "      <td>0.315</td>\n",
       "    </tr>\n",
       "  </tbody>\n",
       "</table>\n",
       "</div>"
      ],
      "text/plain": [
       "                prob   rank  error  correct   time\n",
       "model                                             \n",
       "Keyboard Only  0.161  5.929    1.0    0.187  0.081\n",
       "LM + Keyboard  0.509  3.440    1.0    0.504  0.399\n",
       "LM Only        0.752  1.480    1.0    0.786  0.315"
      ]
     },
     "execution_count": 10,
     "metadata": {},
     "output_type": "execute_result"
    }
   ],
   "source": [
    "grades.query('in_list and error').groupby('model').mean().drop(columns=['i', 'in_list']).round(3)"
   ]
  },
  {
   "cell_type": "code",
   "execution_count": 11,
   "metadata": {},
   "outputs": [
    {
     "data": {
      "text/html": [
       "<div>\n",
       "<style scoped>\n",
       "    .dataframe tbody tr th:only-of-type {\n",
       "        vertical-align: middle;\n",
       "    }\n",
       "\n",
       "    .dataframe tbody tr th {\n",
       "        vertical-align: top;\n",
       "    }\n",
       "\n",
       "    .dataframe thead th {\n",
       "        text-align: right;\n",
       "    }\n",
       "</style>\n",
       "<table border=\"1\" class=\"dataframe\">\n",
       "  <thead>\n",
       "    <tr style=\"text-align: right;\">\n",
       "      <th>model</th>\n",
       "      <th>Keyboard Only</th>\n",
       "      <th>LM + Keyboard</th>\n",
       "      <th>LM Only</th>\n",
       "    </tr>\n",
       "    <tr>\n",
       "      <th>i</th>\n",
       "      <th></th>\n",
       "      <th></th>\n",
       "      <th></th>\n",
       "    </tr>\n",
       "  </thead>\n",
       "  <tbody>\n",
       "    <tr>\n",
       "      <th>33</th>\n",
       "      <td>False</td>\n",
       "      <td>True</td>\n",
       "      <td>False</td>\n",
       "    </tr>\n",
       "    <tr>\n",
       "      <th>253</th>\n",
       "      <td>False</td>\n",
       "      <td>True</td>\n",
       "      <td>False</td>\n",
       "    </tr>\n",
       "    <tr>\n",
       "      <th>1237</th>\n",
       "      <td>False</td>\n",
       "      <td>True</td>\n",
       "      <td>False</td>\n",
       "    </tr>\n",
       "    <tr>\n",
       "      <th>1474</th>\n",
       "      <td>False</td>\n",
       "      <td>True</td>\n",
       "      <td>False</td>\n",
       "    </tr>\n",
       "    <tr>\n",
       "      <th>1684</th>\n",
       "      <td>False</td>\n",
       "      <td>True</td>\n",
       "      <td>False</td>\n",
       "    </tr>\n",
       "    <tr>\n",
       "      <th>2373</th>\n",
       "      <td>False</td>\n",
       "      <td>True</td>\n",
       "      <td>False</td>\n",
       "    </tr>\n",
       "    <tr>\n",
       "      <th>2422</th>\n",
       "      <td>False</td>\n",
       "      <td>True</td>\n",
       "      <td>False</td>\n",
       "    </tr>\n",
       "  </tbody>\n",
       "</table>\n",
       "</div>"
      ],
      "text/plain": [
       "model  Keyboard Only  LM + Keyboard  LM Only\n",
       "i                                           \n",
       "33             False           True    False\n",
       "253            False           True    False\n",
       "1237           False           True    False\n",
       "1474           False           True    False\n",
       "1684           False           True    False\n",
       "2373           False           True    False\n",
       "2422           False           True    False"
      ]
     },
     "execution_count": 11,
     "metadata": {},
     "output_type": "execute_result"
    }
   ],
   "source": [
    "grades.pivot(index='i', columns='model', values='correct').query('not `Keyboard Only` and not `LM Only` and `LM + Keyboard`')"
   ]
  },
  {
   "cell_type": "code",
   "execution_count": 12,
   "metadata": {},
   "outputs": [
    {
     "data": {
      "text/plain": [
       "(2503, 2503)"
      ]
     },
     "execution_count": 12,
     "metadata": {},
     "output_type": "execute_result"
    }
   ],
   "source": [
    "with open('results/kbd_probs.pkl' , 'rb') as f:\n",
    "    kbd = pickle.load(f)\n",
    "\n",
    "with open('results/lm_probs.pkl' , 'rb') as f:\n",
    "    lm = pickle.load(f)\n",
    "\n",
    "len(kbd), len(lm)"
   ]
  },
  {
   "cell_type": "code",
   "execution_count": 13,
   "metadata": {},
   "outputs": [
    {
     "data": {
      "text/plain": [
       "Comfirmed      5.151269e-01\n",
       "Confirmed      4.736504e-01\n",
       "Com firmed     5.452475e-03\n",
       "Com-firmed     5.452475e-03\n",
       "Confirm        2.237272e-04\n",
       "Comforted      9.353834e-05\n",
       "Comforter      4.874742e-07\n",
       "Comedic        9.915158e-10\n",
       "Comfortless    1.059379e-10\n",
       "Discomfited    3.015923e-25\n",
       "dtype: float64"
      ]
     },
     "execution_count": 13,
     "metadata": {},
     "output_type": "execute_result"
    }
   ],
   "source": [
    "kbd[253].corrs.as_series().sort_values(ascending=False)"
   ]
  },
  {
   "cell_type": "code",
   "execution_count": 14,
   "metadata": {},
   "outputs": [
    {
     "data": {
      "text/plain": [
       "Confirm        9.011164e-01\n",
       "Confirmed      6.405732e-02\n",
       "Comforter      2.651422e-02\n",
       "Comforted      7.899933e-03\n",
       "Comfortless    3.655558e-04\n",
       "Comedic        4.659565e-05\n",
       "Comfirmed      9.083786e-09\n",
       "Com firmed     2.770686e-09\n",
       "Discomfited    4.579917e-10\n",
       "Com-firmed     9.860619e-11\n",
       "dtype: float64"
      ]
     },
     "execution_count": 14,
     "metadata": {},
     "output_type": "execute_result"
    }
   ],
   "source": [
    "lm[253].corrs.as_series().sort_values(ascending=False)"
   ]
  },
  {
   "cell_type": "code",
   "execution_count": 15,
   "metadata": {},
   "outputs": [
    {
     "name": "stderr",
     "output_type": "stream",
     "text": [
      "/home/nicholas/anaconda3/envs/critic/lib/python3.11/site-packages/scipy/special/_logsumexp.py:234: RuntimeWarning: invalid value encountered in subtract\n",
      "  exp_x_shifted = np.exp(x - x_max)\n"
     ]
    }
   ],
   "source": [
    "from scipy.special import logit, softmax\n",
    "from scipy.optimize import minimize_scalar\n",
    "\n",
    "@np.vectorize\n",
    "def objective(lm_w):    \n",
    "    probs = []\n",
    "    for r1, r2 in zip(kbd, lm):\n",
    "        s1 = r1.corrs.as_series()\n",
    "        s2 = r2.corrs.as_series().loc[s1.index]\n",
    "\n",
    "        s3 = lm_w * logit(s1) + (1 - lm_w) * logit(s2)\n",
    "        s3.iloc[:] = softmax(s3)\n",
    "        probs.append(s3.to_dict().get(r1.true, 0))\n",
    "    return np.mean(probs)\n",
    "\n",
    "ww = np.linspace(0.1, 0.9, 7)\n",
    "oo = objective(ww)"
   ]
  },
  {
   "cell_type": "code",
   "execution_count": 16,
   "metadata": {},
   "outputs": [
    {
     "data": {
      "text/plain": [
       "[<matplotlib.lines.Line2D at 0x71d437cc8110>]"
      ]
     },
     "execution_count": 16,
     "metadata": {},
     "output_type": "execute_result"
    },
    {
     "data": {
      "image/png": "[encoded data removed]",
      "text/plain": [
       "<Figure size 800x600 with 1 Axes>"
      ]
     },
     "metadata": {},
     "output_type": "display_data"
    }
   ],
   "source": [
    "plt.plot(ww, oo)"
   ]
  },
  {
   "cell_type": "code",
   "execution_count": null,
   "metadata": {},
   "outputs": [],
   "source": []
  },
  {
   "cell_type": "code",
   "execution_count": null,
   "metadata": {},
   "outputs": [],
   "source": []
  },
  {
   "cell_type": "code",
   "execution_count": 23,
   "metadata": {},
   "outputs": [
    {
     "name": "stderr",
     "output_type": "stream",
     "text": [
      "llama_new_context_with_model: n_ctx_per_seq (256) < n_ctx_train (131072) -- the full capacity of the model will not be utilized\n",
      "llama_new_context_with_model: n_ctx_per_seq (256) < n_ctx_train (131072) -- the full capacity of the model will not be utilized\n"
     ]
    },
    {
     "data": {
      "image/png": "[encoded data removed]",
      "text/plain": [
       "<Figure size 800x600 with 1 Axes>"
      ]
     },
     "metadata": {},
     "output_type": "display_data"
    }
   ],
   "source": [
    "from copy import deepcopy\n",
    "\n",
    "\n",
    "corrector = load_llama_corrector()\n",
    "\n",
    "\n",
    "kbd_corrector = corrector.base\n",
    "lm_corrector = load_llama_corrector()\n",
    "lm_corrector.base = UniformCorrector()\n",
    "\n",
    "\n",
    "# context = ''\n",
    "# word = 'Thr'\n",
    "context = 'The coverage about me in the paper'\n",
    "word = 'gas'\n",
    "\n",
    "\n",
    "corrector.push_words(context)\n",
    "lm_corrector.push_words(context)\n",
    "\n",
    "corrs = corrector.correct(word).as_series()\n",
    "kbd_corrs = kbd_corrector.correct(word).as_series()\n",
    "lm_corrs = lm_corrector.correct(word).as_series()\n",
    "\n",
    "\n",
    "df = pd.DataFrame({'Keyboard': kbd_corrs, 'LM': lm_corrs, 'CRITIC': corrs}).reset_index(names='Word').sort_values('CRITIC', ascending=False).iloc[:10].melt(var_name='Model', value_name='Probability', id_vars=['Word'])\n",
    "\n",
    "plt.rcParams['font.sans-serif'] = 'Nimbus Sans'\n",
    "with sns.plotting_context('talk'):    \n",
    "    sns.barplot(df, x='Probability', y='Word', orient='h', hue='Model')\n",
    "    plt.gca().set_title(f'{context} {word}')"
   ]
  },
  {
   "cell_type": "code",
   "execution_count": 28,
   "metadata": {},
   "outputs": [
    {
     "data": {
      "image/png": "[encoded data removed]",
      "text/plain": [
       "<Figure size 800x600 with 1 Axes>"
      ]
     },
     "metadata": {},
     "output_type": "display_data"
    }
   ],
   "source": [
    "with sns.plotting_context('talk'):\n",
    "    sns.barplot(df.query('Model == \"CRITIC\"').sort_values('Probability', ascending=False).iloc[:4], x='Probability', y='Word', orient='h',)\n",
    "    rp.ylabel_top()"
   ]
  },
  {
   "cell_type": "code",
   "execution_count": 18,
   "metadata": {},
   "outputs": [
    {
     "data": {
      "text/html": [
       "<div style='column-count: 2;'><p>Bitstream Vera Sans: <span style='font-family:Bitstream Vera Sans; font-size: 24px;'>Bitstream Vera Sans</p>\n",
       "<p>Bitstream Vera Sans Mono: <span style='font-family:Bitstream Vera Sans Mono; font-size: 24px;'>Bitstream Vera Sans Mono</p>\n",
       "<p>Bitstream Vera Serif: <span style='font-family:Bitstream Vera Serif; font-size: 24px;'>Bitstream Vera Serif</p>\n",
       "<p>C059: <span style='font-family:C059; font-size: 24px;'>C059</p>\n",
       "<p>CaskaydiaCove NF: <span style='font-family:CaskaydiaCove NF; font-size: 24px;'>CaskaydiaCove NF</p>\n",
       "<p>CaskaydiaCove NFM: <span style='font-family:CaskaydiaCove NFM; font-size: 24px;'>CaskaydiaCove NFM</p>\n",
       "<p>CaskaydiaCove NFP: <span style='font-family:CaskaydiaCove NFP; font-size: 24px;'>CaskaydiaCove NFP</p>\n",
       "<p>D050000L: <span style='font-family:D050000L; font-size: 24px;'>D050000L</p>\n",
       "<p>DejaVu Math TeX Gyre: <span style='font-family:DejaVu Math TeX Gyre; font-size: 24px;'>DejaVu Math TeX Gyre</p>\n",
       "<p>DejaVu Sans: <span style='font-family:DejaVu Sans; font-size: 24px;'>DejaVu Sans</p>\n",
       "<p>DejaVu Sans Display: <span style='font-family:DejaVu Sans Display; font-size: 24px;'>DejaVu Sans Display</p>\n",
       "<p>DejaVu Sans Mono: <span style='font-family:DejaVu Sans Mono; font-size: 24px;'>DejaVu Sans Mono</p>\n",
       "<p>DejaVu Serif: <span style='font-family:DejaVu Serif; font-size: 24px;'>DejaVu Serif</p>\n",
       "<p>DejaVu Serif Display: <span style='font-family:DejaVu Serif Display; font-size: 24px;'>DejaVu Serif Display</p>\n",
       "<p>Inter: <span style='font-family:Inter; font-size: 24px;'>Inter</p>\n",
       "<p>Inter Variable: <span style='font-family:Inter Variable; font-size: 24px;'>Inter Variable</p>\n",
       "<p>JuliaMono: <span style='font-family:JuliaMono; font-size: 24px;'>JuliaMono</p>\n",
       "<p>Liberation Mono: <span style='font-family:Liberation Mono; font-size: 24px;'>Liberation Mono</p>\n",
       "<p>Liberation Sans: <span style='font-family:Liberation Sans; font-size: 24px;'>Liberation Sans</p>\n",
       "<p>Liberation Serif: <span style='font-family:Liberation Serif; font-size: 24px;'>Liberation Serif</p>\n",
       "<p>Monaspace Argon: <span style='font-family:Monaspace Argon; font-size: 24px;'>Monaspace Argon</p>\n",
       "<p>Monaspace Krypton: <span style='font-family:Monaspace Krypton; font-size: 24px;'>Monaspace Krypton</p>\n",
       "<p>Monaspace Neon: <span style='font-family:Monaspace Neon; font-size: 24px;'>Monaspace Neon</p>\n",
       "<p>Monaspace Radon: <span style='font-family:Monaspace Radon; font-size: 24px;'>Monaspace Radon</p>\n",
       "<p>Monaspace Xenon: <span style='font-family:Monaspace Xenon; font-size: 24px;'>Monaspace Xenon</p>\n",
       "<p>New York: <span style='font-family:New York; font-size: 24px;'>New York</p>\n",
       "<p>New York Extra Large: <span style='font-family:New York Extra Large; font-size: 24px;'>New York Extra Large</p>\n",
       "<p>New York Large: <span style='font-family:New York Large; font-size: 24px;'>New York Large</p>\n",
       "<p>New York Medium: <span style='font-family:New York Medium; font-size: 24px;'>New York Medium</p>\n",
       "<p>New York Small: <span style='font-family:New York Small; font-size: 24px;'>New York Small</p>\n",
       "<p>Nimbus Mono PS: <span style='font-family:Nimbus Mono PS; font-size: 24px;'>Nimbus Mono PS</p>\n",
       "<p>Nimbus Roman: <span style='font-family:Nimbus Roman; font-size: 24px;'>Nimbus Roman</p>\n",
       "<p>Nimbus Sans: <span style='font-family:Nimbus Sans; font-size: 24px;'>Nimbus Sans</p>\n",
       "<p>Nimbus Sans Narrow: <span style='font-family:Nimbus Sans Narrow; font-size: 24px;'>Nimbus Sans Narrow</p>\n",
       "<p>Open Sans: <span style='font-family:Open Sans; font-size: 24px;'>Open Sans</p>\n",
       "<p>Open Sans Condensed: <span style='font-family:Open Sans Condensed; font-size: 24px;'>Open Sans Condensed</p>\n",
       "<p>P052: <span style='font-family:P052; font-size: 24px;'>P052</p>\n",
       "<p>SF Compact: <span style='font-family:SF Compact; font-size: 24px;'>SF Compact</p>\n",
       "<p>SF Compact Display: <span style='font-family:SF Compact Display; font-size: 24px;'>SF Compact Display</p>\n",
       "<p>SF Compact Rounded: <span style='font-family:SF Compact Rounded; font-size: 24px;'>SF Compact Rounded</p>\n",
       "<p>SF Compact Text: <span style='font-family:SF Compact Text; font-size: 24px;'>SF Compact Text</p>\n",
       "<p>SF Mono: <span style='font-family:SF Mono; font-size: 24px;'>SF Mono</p>\n",
       "<p>SF Pro: <span style='font-family:SF Pro; font-size: 24px;'>SF Pro</p>\n",
       "<p>SF Pro Display: <span style='font-family:SF Pro Display; font-size: 24px;'>SF Pro Display</p>\n",
       "<p>SF Pro Rounded: <span style='font-family:SF Pro Rounded; font-size: 24px;'>SF Pro Rounded</p>\n",
       "<p>SF Pro Text: <span style='font-family:SF Pro Text; font-size: 24px;'>SF Pro Text</p>\n",
       "<p>STIXGeneral: <span style='font-family:STIXGeneral; font-size: 24px;'>STIXGeneral</p>\n",
       "<p>STIXNonUnicode: <span style='font-family:STIXNonUnicode; font-size: 24px;'>STIXNonUnicode</p>\n",
       "<p>STIXSizeFiveSym: <span style='font-family:STIXSizeFiveSym; font-size: 24px;'>STIXSizeFiveSym</p>\n",
       "<p>STIXSizeFourSym: <span style='font-family:STIXSizeFourSym; font-size: 24px;'>STIXSizeFourSym</p>\n",
       "<p>STIXSizeOneSym: <span style='font-family:STIXSizeOneSym; font-size: 24px;'>STIXSizeOneSym</p>\n",
       "<p>STIXSizeThreeSym: <span style='font-family:STIXSizeThreeSym; font-size: 24px;'>STIXSizeThreeSym</p>\n",
       "<p>STIXSizeTwoSym: <span style='font-family:STIXSizeTwoSym; font-size: 24px;'>STIXSizeTwoSym</p>\n",
       "<p>Source Code Pro: <span style='font-family:Source Code Pro; font-size: 24px;'>Source Code Pro</p>\n",
       "<p>Source Han Sans CN: <span style='font-family:Source Han Sans CN; font-size: 24px;'>Source Han Sans CN</p>\n",
       "<p>Source Han Sans JP: <span style='font-family:Source Han Sans JP; font-size: 24px;'>Source Han Sans JP</p>\n",
       "<p>Source Han Sans KR: <span style='font-family:Source Han Sans KR; font-size: 24px;'>Source Han Sans KR</p>\n",
       "<p>Standard Symbols PS: <span style='font-family:Standard Symbols PS; font-size: 24px;'>Standard Symbols PS</p>\n",
       "<p>Symbola: <span style='font-family:Symbola; font-size: 24px;'>Symbola</p>\n",
       "<p>Times New Roman: <span style='font-family:Times New Roman; font-size: 24px;'>Times New Roman</p>\n",
       "<p>URW Bookman: <span style='font-family:URW Bookman; font-size: 24px;'>URW Bookman</p>\n",
       "<p>URW Gothic: <span style='font-family:URW Gothic; font-size: 24px;'>URW Gothic</p>\n",
       "<p>Z003: <span style='font-family:Z003; font-size: 24px;'>Z003</p>\n",
       "<p>cmb10: <span style='font-family:cmb10; font-size: 24px;'>cmb10</p>\n",
       "<p>cmex10: <span style='font-family:cmex10; font-size: 24px;'>cmex10</p>\n",
       "<p>cmmi10: <span style='font-family:cmmi10; font-size: 24px;'>cmmi10</p>\n",
       "<p>cmr10: <span style='font-family:cmr10; font-size: 24px;'>cmr10</p>\n",
       "<p>cmss10: <span style='font-family:cmss10; font-size: 24px;'>cmss10</p>\n",
       "<p>cmsy10: <span style='font-family:cmsy10; font-size: 24px;'>cmsy10</p>\n",
       "<p>cmtt10: <span style='font-family:cmtt10; font-size: 24px;'>cmtt10</p></div>"
      ],
      "text/plain": [
       "<IPython.core.display.HTML object>"
      ]
     },
     "execution_count": 18,
     "metadata": {},
     "output_type": "execute_result"
    }
   ],
   "source": [
    "import matplotlib.font_manager\n",
    "from IPython.core.display import HTML\n",
    "\n",
    "def make_html(fontname):\n",
    "    return \"<p>{font}: <span style='font-family:{font}; font-size: 24px;'>{font}</p>\".format(font=fontname)\n",
    "\n",
    "code = \"\\n\".join([make_html(font) for font in sorted(set([f.name for f in matplotlib.font_manager.fontManager.ttflist]))])\n",
    "\n",
    "HTML(\"<div style='column-count: 2;'>{}</div>\".format(code))"
   ]
  },
  {
   "cell_type": "code",
   "execution_count": null,
   "metadata": {},
   "outputs": [],
   "source": []
  }
 ],
 "metadata": {
  "kernelspec": {
   "display_name": "critic",
   "language": "python",
   "name": "python3"
  },
  "language_info": {
   "codemirror_mode": {
    "name": "ipython",
    "version": 3
   },
   "file_extension": ".py",
   "mimetype": "text/x-python",
   "name": "python",
   "nbconvert_exporter": "python",
   "pygments_lexer": "ipython3",
   "version": "3.11.0"
  }
 },
 "nbformat": 4,
 "nbformat_minor": 2
}
